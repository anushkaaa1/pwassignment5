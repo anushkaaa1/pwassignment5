{
 "cells": [
  {
   "cell_type": "markdown",
   "id": "0de0f2c3-1f6e-4d39-b31b-cfc9ed627266",
   "metadata": {},
   "source": [
    "Q1. What is a set in python?\n",
    "\n",
    "ans. A set is an unordered collection of elements with no duplicate elements."
   ]
  },
  {
   "cell_type": "markdown",
   "id": "76a0fe5f-c5d9-4e94-be13-26dd22360b6e",
   "metadata": {},
   "source": [
    "Q2. How do you create a set in python?\n",
    "\n",
    "ans. We create a set by placing all the elements inside curly braces{ } and separate elements by comma. For example - "
   ]
  },
  {
   "cell_type": "code",
   "execution_count": 1,
   "id": "f284da07-8b00-4a3c-a6d9-effec461323c",
   "metadata": {},
   "outputs": [
    {
     "name": "stdout",
     "output_type": "stream",
     "text": [
      "<class 'set'>\n"
     ]
    }
   ],
   "source": [
    "a = {1,3,4}\n",
    "print(type(a))"
   ]
  },
  {
   "cell_type": "markdown",
   "id": "771611ac-0595-49cb-bf20-48c98f5263d1",
   "metadata": {},
   "source": [
    "Q3. How do you add elements to set in python?"
   ]
  },
  {
   "cell_type": "code",
   "execution_count": 2,
   "id": "e21896d3-1c26-43d0-802c-a79ce8ba21cb",
   "metadata": {},
   "outputs": [
    {
     "name": "stdout",
     "output_type": "stream",
     "text": [
      "{1, 2, 3, 5}\n"
     ]
    }
   ],
   "source": [
    "a = {1,2,3}\n",
    "a.add(5)\n",
    "print(a)"
   ]
  },
  {
   "cell_type": "markdown",
   "id": "b4f147b0-16b2-456d-8caf-2646a3b7bcc8",
   "metadata": {},
   "source": [
    "Q4. How do you remove elements from a set in python?"
   ]
  },
  {
   "cell_type": "code",
   "execution_count": 4,
   "id": "5b06bb16-cf6a-4cb5-a0f7-b2a3ed35b62e",
   "metadata": {},
   "outputs": [
    {
     "name": "stdout",
     "output_type": "stream",
     "text": [
      "{2, 4}\n"
     ]
    }
   ],
   "source": [
    "a = {2,3,4}\n",
    "a.remove(3)\n",
    "print(a)"
   ]
  },
  {
   "cell_type": "markdown",
   "id": "d1d80fcc-8cf2-405c-9258-1e148e07b655",
   "metadata": {},
   "source": [
    "Q5. How do you get the length of a set in python?"
   ]
  },
  {
   "cell_type": "code",
   "execution_count": 5,
   "id": "3825a7d4-4938-4e1f-983f-443f0597da8a",
   "metadata": {},
   "outputs": [
    {
     "name": "stdout",
     "output_type": "stream",
     "text": [
      "4\n"
     ]
    }
   ],
   "source": [
    "a = {2,3,4,5}\n",
    "print(len(a))"
   ]
  },
  {
   "cell_type": "code",
   "execution_count": null,
   "id": "6bc25c50-2d40-4903-8e38-baa68eb53848",
   "metadata": {},
   "outputs": [],
   "source": []
  }
 ],
 "metadata": {
  "kernelspec": {
   "display_name": "Python 3 (ipykernel)",
   "language": "python",
   "name": "python3"
  },
  "language_info": {
   "codemirror_mode": {
    "name": "ipython",
    "version": 3
   },
   "file_extension": ".py",
   "mimetype": "text/x-python",
   "name": "python",
   "nbconvert_exporter": "python",
   "pygments_lexer": "ipython3",
   "version": "3.10.8"
  }
 },
 "nbformat": 4,
 "nbformat_minor": 5
}
